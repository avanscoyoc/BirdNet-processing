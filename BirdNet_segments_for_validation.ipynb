{
 "cells": [
  {
   "cell_type": "markdown",
   "id": "5cdbcf41",
   "metadata": {},
   "source": [
    "## Bird Acoustic Data Segmentation"
   ]
  },
  {
   "cell_type": "markdown",
   "id": "89f7b358",
   "metadata": {},
   "source": [
    "Background: \n",
    "We collected acoustic data across 67 sites in the Mojave desert in 2023. Recordings were taken during the peak breeding season (May 20-28th). Acoustic Recordings were collected using Audiomoths deployed at each site for a minimum of 5 days. Audiomoths were programmed to record audio from 8pm to 9am each day to capture night calling birds and the dawn chorus. 4TB of acoustic recordings were collected and run through the BirdNet algorithm to produce a dataframe of species auto-classifications. We must validate the accuracy of these auto-classifications by listening to at least 50 calls segments for each species. \n",
    "\n",
    "Objective: \n",
    "To avoid scrolling to each timestamp in several thousand audio files across sites and species, here, I segment ~4 TB of bird call audio into 5-second clips and store clips in folders by species name for a quick manual validation."
   ]
  },
  {
   "cell_type": "markdown",
   "id": "4f0b086c",
   "metadata": {},
   "source": [
    "#### Load Libraries"
   ]
  },
  {
   "cell_type": "code",
   "execution_count": 13,
   "id": "316ed84a",
   "metadata": {},
   "outputs": [],
   "source": [
    "from pydub import AudioSegment\n",
    "import os\n",
    "import pandas as pd"
   ]
  },
  {
   "cell_type": "markdown",
   "id": "fa0af7dc",
   "metadata": {},
   "source": [
    "After loading packages, I set and check the working directory to the bird audio data.  "
   ]
  },
  {
   "cell_type": "code",
   "execution_count": 14,
   "id": "a5e0bde3",
   "metadata": {},
   "outputs": [
    {
     "data": {
      "text/plain": [
       "'/Volumes/ExtremeSSD'"
      ]
     },
     "execution_count": 14,
     "metadata": {},
     "output_type": "execute_result"
    }
   ],
   "source": [
    "os.chdir('/Volumes/ExtremeSSD/')\n",
    "os.getcwd()"
   ]
  },
  {
   "cell_type": "markdown",
   "id": "1881bc81",
   "metadata": {},
   "source": [
    "#### Segmentation Function"
   ]
  },
  {
   "cell_type": "markdown",
   "id": "1b5b92d0",
   "metadata": {},
   "source": [
    "This function loads the data (`table_path`) which contains the BirdNet species assignment (`Common.Name`), original corresponding file name and site (`Begin.File`), and timestamps corresponding to the call clip within each 9-hour file (`Begin.Time..s.`). The function grabs the raw audio file, extracts 5-second clips of audio at the timestamp, and stores each clip with a unique ID in a folder it creates for all clips of that species. "
   ]
  },
  {
   "cell_type": "code",
   "execution_count": 15,
   "id": "ef28bc17",
   "metadata": {},
   "outputs": [],
   "source": [
    "def segment_wav(input_root_folder, output_root_folder, table_path):\n",
    "    # Load the table of IDs, species names, start times, and file names from a CSV file\n",
    "    table = pd.read_csv(table_path)  # Assuming a comma-separated CSV file\n",
    "\n",
    "    for _, row in table.iterrows():\n",
    "        subfolder_name = row['site']\n",
    "        species_code = row['Species.Code']\n",
    "        species_name = row['Common.Name']\n",
    "        file_name = row['Begin.File']\n",
    "        start_time = int(row['Begin.Time..s.']) * 1000  # Convert start time to milliseconds\n",
    "        segment_id = row['ID']\n",
    "\n",
    "        # Construct the full path to the input WAV file\n",
    "        input_file_path = os.path.join(input_root_folder, subfolder_name, file_name)\n",
    "\n",
    "        # Load the audio file using pydub\n",
    "        audio = AudioSegment.from_wav(input_file_path)\n",
    "\n",
    "        # Extract a 5-second segment starting from the specified time\n",
    "        segment = audio[start_time:start_time + 5000]\n",
    "\n",
    "        # Construct the output folder path based on the 'species_name' column\n",
    "        output_folder_path = os.path.join(output_root_folder, species_name)\n",
    "\n",
    "        # Ensure the output folder exists, create if necessary\n",
    "        os.makedirs(output_folder_path, exist_ok=True)\n",
    "\n",
    "        # Construct the output file path using the 'ID' column\n",
    "        output_file_path = os.path.join(output_folder_path, f\"{species_code}_{segment_id}.wav\")\n",
    "\n",
    "        # Export the segment as a new WAV file\n",
    "        segment.export(output_file_path, format=\"wav\")"
   ]
  },
  {
   "cell_type": "markdown",
   "id": "f47d1579",
   "metadata": {},
   "source": [
    "After defining the function to segment the audio and assign segments to named folders, I set the input and output folders and run the function on the raw data. "
   ]
  },
  {
   "cell_type": "code",
   "execution_count": null,
   "id": "e52bc9bd",
   "metadata": {},
   "outputs": [],
   "source": [
    "if __name__ == \"__main__\":\n",
    "    # Specify the input root folder containing the WAV files\n",
    "    input_root_folder = \"/Volumes/ExtremeSSD/Mojave/birds\"\n",
    "\n",
    "    # Specify the output root folder for the segmented clips\n",
    "    output_root_folder = \"/Volumes/ExtremeSSD/mojave_2016_birds_to_vet/\"\n",
    "\n",
    "    # Specify the path to the CSV table of IDs, species names, start times, and file names\n",
    "    table_path = \"/Volumes/ExtremeSSD/mojave_2016_birds_to_vet.csv\"\n",
    "\n",
    "    # Call the function to perform segmentation\n",
    "    segment_wav(input_root_folder, output_root_folder, table_path)"
   ]
  },
  {
   "cell_type": "markdown",
   "id": "bbedb292",
   "metadata": {},
   "source": [
    "There you have it! The audio segments can now be quickly validated in a 5-second playlist format by species. This significantly speeds up audio validation to avoid scrolling through several thousands of hours of audio across many species. "
   ]
  }
 ],
 "metadata": {
  "kernelspec": {
   "display_name": "Python 3 (ipykernel)",
   "language": "python",
   "name": "python3"
  },
  "language_info": {
   "codemirror_mode": {
    "name": "ipython",
    "version": 3
   },
   "file_extension": ".py",
   "mimetype": "text/x-python",
   "name": "python",
   "nbconvert_exporter": "python",
   "pygments_lexer": "ipython3",
   "version": "3.11.0"
  }
 },
 "nbformat": 4,
 "nbformat_minor": 5
}
