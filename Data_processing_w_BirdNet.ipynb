{
 "cells": [
  {
   "cell_type": "markdown",
   "id": "8d2cec99",
   "metadata": {},
   "source": [
    "# "
   ]
  },
  {
   "cell_type": "markdown",
   "id": "aef11f06",
   "metadata": {},
   "source": [
    "Code to get file dates from directories is below: "
   ]
  },
  {
   "cell_type": "code",
   "execution_count": 1,
   "id": "266e37cf",
   "metadata": {},
   "outputs": [],
   "source": [
    "import pandas as pd \n",
    "import os\n",
    "import glob \n",
    "import datetime"
   ]
  },
  {
   "cell_type": "code",
   "execution_count": 2,
   "id": "073a74a0-fab3-40b9-bafe-9a836ca78356",
   "metadata": {
    "tags": []
   },
   "outputs": [
    {
     "data": {
      "text/plain": [
       "'/Users/amy'"
      ]
     },
     "execution_count": 2,
     "metadata": {},
     "output_type": "execute_result"
    }
   ],
   "source": [
    "#check current directory\n",
    "os.getcwd()"
   ]
  },
  {
   "cell_type": "code",
   "execution_count": 3,
   "id": "893ec7e3",
   "metadata": {
    "scrolled": false
   },
   "outputs": [],
   "source": [
    "#set up directories and lists\n",
    "all_folders = os.listdir('/Volumes/ExtremeSSD/Mojave/Birds')\n",
    "site = []\n",
    "start = []\n",
    "end = []\n",
    "\n",
    "#for each site's acoustic survey files, identify the first start time and last end time\n",
    "for folder in all_folders:\n",
    "    v1 = os.path.basename(folder) #get siteID\n",
    "    site.append(v1) #append siteID\n",
    "    folder_path = '/Volumes/ExtremeSSD/Mojave/Birds/' + folder #get folder path\n",
    "    file_type = '/*.WAV' #use .wav files \n",
    "    files = glob.glob(folder_path + file_type) #choose only .wav files in each folder\n",
    "    if len(files) == 0: #if there are no files, as with SM3s leave as NA and move on\n",
    "        v2 = 'SM3'\n",
    "        v3 = 'NA'\n",
    "        start.append(v2)\n",
    "        end.append(v3)\n",
    "    else:\n",
    "        #otherwise get the first file creation datetime\n",
    "        v2 = datetime.datetime.fromtimestamp(os.stat(min(files, key=os.path.getctime)).st_birthtime)\n",
    "        #and the last file modified (aka end) datetime\n",
    "        v3 = datetime.datetime.fromtimestamp(os.stat(max(files, key=os.path.getmtime)).st_mtime)\n",
    "        start.append(v2) #append min date\n",
    "        end.append(v3) #append max date\n",
    "\n",
    "#put in dataframe\n",
    "d = pd.DataFrame() \n",
    "d['site_id'] = site\n",
    "d['survey_start'] = start\n",
    "d['survey_end'] = end\n",
    "\n",
    "#write to csv\n",
    "d.to_csv(\"/Users/amy/Desktop/bird_survey_datetime.csv\", index=False) #save to .csv file"
   ]
  },
  {
   "cell_type": "code",
   "execution_count": null,
   "id": "291cdfac",
   "metadata": {},
   "outputs": [],
   "source": []
  }
 ],
 "metadata": {
  "kernelspec": {
   "display_name": "OpenSoundscape",
   "language": "python",
   "name": "env_name"
  },
  "language_info": {
   "codemirror_mode": {
    "name": "ipython",
    "version": 3
   },
   "file_extension": ".py",
   "mimetype": "text/x-python",
   "name": "python",
   "nbconvert_exporter": "python",
   "pygments_lexer": "ipython3",
   "version": "3.11.0"
  }
 },
 "nbformat": 4,
 "nbformat_minor": 5
}
